{
 "cells": [
  {
   "cell_type": "markdown",
   "metadata": {},
   "source": [
    "# Loading dataset and performing basic stuff"
   ]
  },
  {
   "cell_type": "code",
   "execution_count": 1,
   "metadata": {},
   "outputs": [],
   "source": [
    "import numpy as np\n",
    "import pandas as pd\n",
    "import matplotlib.pyplot as plt\n",
    "\n",
    "import time\n",
    "\n",
    "from nltk.corpus import wordnet\n",
    "from nltk.tokenize import word_tokenize\n",
    "import random\n",
    "from nltk.corpus import stopwords\n",
    "import string\n",
    "from nltk.stem import WordNetLemmatizer\n",
    "from nltk import pos_tag\n",
    "from sklearn.feature_extraction.text import TfidfVectorizer\n",
    "\n",
    "from sklearn.model_selection import train_test_split\n",
    "\n",
    "from sklearn.linear_model import LogisticRegression\n",
    "from sklearn.tree import DecisionTreeClassifier\n",
    "from sklearn.naive_bayes import BernoulliNB, MultinomialNB\n",
    "from sklearn.svm import LinearSVC\n",
    "from sklearn.linear_model import RidgeClassifier\n",
    "\n",
    "import dataframe_image as dfi\n",
    "\n",
    "import warnings\n",
    "warnings.filterwarnings('ignore')"
   ]
  },
  {
   "cell_type": "code",
   "execution_count": 2,
   "metadata": {},
   "outputs": [
    {
     "data": {
      "text/html": [
       "<div>\n",
       "<style scoped>\n",
       "    .dataframe tbody tr th:only-of-type {\n",
       "        vertical-align: middle;\n",
       "    }\n",
       "\n",
       "    .dataframe tbody tr th {\n",
       "        vertical-align: top;\n",
       "    }\n",
       "\n",
       "    .dataframe thead th {\n",
       "        text-align: right;\n",
       "    }\n",
       "</style>\n",
       "<table border=\"1\" class=\"dataframe\">\n",
       "  <thead>\n",
       "    <tr style=\"text-align: right;\">\n",
       "      <th></th>\n",
       "      <th>text</th>\n",
       "      <th>sentiment</th>\n",
       "    </tr>\n",
       "  </thead>\n",
       "  <tbody>\n",
       "    <tr>\n",
       "      <th>0</th>\n",
       "      <td>@switchfoot http://twitpic.com/2y1zl - Awww, t...</td>\n",
       "      <td>0</td>\n",
       "    </tr>\n",
       "    <tr>\n",
       "      <th>1</th>\n",
       "      <td>is upset that he can't update his Facebook by ...</td>\n",
       "      <td>0</td>\n",
       "    </tr>\n",
       "    <tr>\n",
       "      <th>2</th>\n",
       "      <td>@Kenichan I dived many times for the ball. Man...</td>\n",
       "      <td>0</td>\n",
       "    </tr>\n",
       "    <tr>\n",
       "      <th>3</th>\n",
       "      <td>my whole body feels itchy and like its on fire</td>\n",
       "      <td>0</td>\n",
       "    </tr>\n",
       "    <tr>\n",
       "      <th>4</th>\n",
       "      <td>@nationwideclass no, it's not behaving at all....</td>\n",
       "      <td>0</td>\n",
       "    </tr>\n",
       "    <tr>\n",
       "      <th>5</th>\n",
       "      <td>@Kwesidei not the whole crew</td>\n",
       "      <td>0</td>\n",
       "    </tr>\n",
       "    <tr>\n",
       "      <th>6</th>\n",
       "      <td>Need a hug</td>\n",
       "      <td>0</td>\n",
       "    </tr>\n",
       "    <tr>\n",
       "      <th>7</th>\n",
       "      <td>@LOLTrish hey  long time no see! Yes.. Rains a...</td>\n",
       "      <td>0</td>\n",
       "    </tr>\n",
       "    <tr>\n",
       "      <th>8</th>\n",
       "      <td>@Tatiana_K nope they didn't have it</td>\n",
       "      <td>0</td>\n",
       "    </tr>\n",
       "    <tr>\n",
       "      <th>9</th>\n",
       "      <td>@twittera que me muera ?</td>\n",
       "      <td>0</td>\n",
       "    </tr>\n",
       "  </tbody>\n",
       "</table>\n",
       "</div>"
      ],
      "text/plain": [
       "                                                text  sentiment\n",
       "0  @switchfoot http://twitpic.com/2y1zl - Awww, t...          0\n",
       "1  is upset that he can't update his Facebook by ...          0\n",
       "2  @Kenichan I dived many times for the ball. Man...          0\n",
       "3    my whole body feels itchy and like its on fire           0\n",
       "4  @nationwideclass no, it's not behaving at all....          0\n",
       "5                      @Kwesidei not the whole crew           0\n",
       "6                                        Need a hug           0\n",
       "7  @LOLTrish hey  long time no see! Yes.. Rains a...          0\n",
       "8               @Tatiana_K nope they didn't have it           0\n",
       "9                          @twittera que me muera ?           0"
      ]
     },
     "execution_count": 2,
     "metadata": {},
     "output_type": "execute_result"
    }
   ],
   "source": [
    "df = pd.read_csv('training.1600000.processed.noemoticon.csv' , encoding='latin-1', header=None , usecols=[0,5])\n",
    "df.columns = ['sentiment' , 'text']\n",
    "df = df[['text' , 'sentiment']]\n",
    "df.head(10)"
   ]
  },
  {
   "cell_type": "code",
   "execution_count": 3,
   "metadata": {},
   "outputs": [],
   "source": [
    "dfi.export(df, 'dataframe.png', max_rows=10)"
   ]
  },
  {
   "cell_type": "code",
   "execution_count": 5,
   "metadata": {},
   "outputs": [
    {
     "data": {
      "text/plain": [
       "Index(['text', 'sentiment'], dtype='object')"
      ]
     },
     "execution_count": 5,
     "metadata": {},
     "output_type": "execute_result"
    }
   ],
   "source": [
    "df.columns"
   ]
  },
  {
   "cell_type": "code",
   "execution_count": 6,
   "metadata": {},
   "outputs": [],
   "source": [
    "def sentiment_conversion(x):\n",
    "    if x==0:\n",
    "        return \"negative\"\n",
    "    elif x==2:\n",
    "        return \"neutral\"\n",
    "    else:\n",
    "        return \"positive\""
   ]
  },
  {
   "cell_type": "code",
   "execution_count": 7,
   "metadata": {},
   "outputs": [],
   "source": [
    "df['sentiment'] = df.sentiment.apply(sentiment_conversion)"
   ]
  },
  {
   "cell_type": "code",
   "execution_count": 8,
   "metadata": {},
   "outputs": [
    {
     "data": {
      "text/plain": [
       "(1600000, 2)"
      ]
     },
     "execution_count": 8,
     "metadata": {},
     "output_type": "execute_result"
    }
   ],
   "source": [
    "df.shape"
   ]
  },
  {
   "cell_type": "code",
   "execution_count": 9,
   "metadata": {},
   "outputs": [
    {
     "data": {
      "text/plain": [
       "text         0\n",
       "sentiment    0\n",
       "dtype: int64"
      ]
     },
     "execution_count": 9,
     "metadata": {},
     "output_type": "execute_result"
    }
   ],
   "source": [
    "df.isnull().sum()"
   ]
  },
  {
   "cell_type": "code",
   "execution_count": 10,
   "metadata": {},
   "outputs": [
    {
     "data": {
      "text/plain": [
       "text         object\n",
       "sentiment    object\n",
       "dtype: object"
      ]
     },
     "execution_count": 10,
     "metadata": {},
     "output_type": "execute_result"
    }
   ],
   "source": [
    "df.dtypes"
   ]
  },
  {
   "cell_type": "markdown",
   "metadata": {},
   "source": [
    "# Tokenizing"
   ]
  },
  {
   "cell_type": "raw",
   "metadata": {},
   "source": [
    "# tokenize : to create separate words from the text"
   ]
  },
  {
   "cell_type": "code",
   "execution_count": 11,
   "metadata": {},
   "outputs": [
    {
     "data": {
      "text/plain": [
       "\"is upset that he can't update his Facebook by texting it... and might cry as a result  School today also. Blah!\""
      ]
     },
     "execution_count": 11,
     "metadata": {},
     "output_type": "execute_result"
    }
   ],
   "source": [
    "df.loc[1][0]"
   ]
  },
  {
   "cell_type": "code",
   "execution_count": 12,
   "metadata": {},
   "outputs": [
    {
     "data": {
      "text/plain": [
       "[(['@',\n",
       "   'switchfoot',\n",
       "   'http',\n",
       "   ':',\n",
       "   '//twitpic.com/2y1zl',\n",
       "   '-',\n",
       "   'Awww',\n",
       "   ',',\n",
       "   'that',\n",
       "   \"'s\",\n",
       "   'a',\n",
       "   'bummer',\n",
       "   '.',\n",
       "   'You',\n",
       "   'shoulda',\n",
       "   'got',\n",
       "   'David',\n",
       "   'Carr',\n",
       "   'of',\n",
       "   'Third',\n",
       "   'Day',\n",
       "   'to',\n",
       "   'do',\n",
       "   'it',\n",
       "   '.',\n",
       "   ';',\n",
       "   'D'],\n",
       "  'negative'),\n",
       " (['is',\n",
       "   'upset',\n",
       "   'that',\n",
       "   'he',\n",
       "   'ca',\n",
       "   \"n't\",\n",
       "   'update',\n",
       "   'his',\n",
       "   'Facebook',\n",
       "   'by',\n",
       "   'texting',\n",
       "   'it',\n",
       "   '...',\n",
       "   'and',\n",
       "   'might',\n",
       "   'cry',\n",
       "   'as',\n",
       "   'a',\n",
       "   'result',\n",
       "   'School',\n",
       "   'today',\n",
       "   'also',\n",
       "   '.',\n",
       "   'Blah',\n",
       "   '!'],\n",
       "  'negative')]"
      ]
     },
     "execution_count": 12,
     "metadata": {},
     "output_type": "execute_result"
    }
   ],
   "source": [
    "# Reformatting dataset to list of tuples, each tuple has 2 elements, 1st is list of words and 2nd is its category\n",
    "\n",
    "documents = []\n",
    "for i in range(len(df)):\n",
    "    category = df.loc[i][1]\n",
    "    words = word_tokenize(df.loc[i][0])\n",
    "    documents.append((words , category))\n",
    "documents[0:2]"
   ]
  },
  {
   "cell_type": "code",
   "execution_count": 13,
   "metadata": {},
   "outputs": [
    {
     "data": {
      "text/plain": [
       "1600000"
      ]
     },
     "execution_count": 13,
     "metadata": {},
     "output_type": "execute_result"
    }
   ],
   "source": [
    "len(documents)"
   ]
  },
  {
   "cell_type": "code",
   "execution_count": 14,
   "metadata": {},
   "outputs": [],
   "source": [
    "# shuffling documents\n",
    "random.shuffle(documents)"
   ]
  },
  {
   "cell_type": "markdown",
   "metadata": {},
   "source": [
    "# creating list of stopwords"
   ]
  },
  {
   "cell_type": "code",
   "execution_count": 15,
   "metadata": {},
   "outputs": [],
   "source": [
    "stops = stopwords.words('english') + list(string.punctuation)"
   ]
  },
  {
   "cell_type": "markdown",
   "metadata": {},
   "source": [
    "# Lemmatizing"
   ]
  },
  {
   "cell_type": "code",
   "execution_count": 16,
   "metadata": {},
   "outputs": [],
   "source": [
    "lemmatizer = WordNetLemmatizer()"
   ]
  },
  {
   "cell_type": "code",
   "execution_count": 17,
   "metadata": {},
   "outputs": [],
   "source": [
    "# defining fuction to convert part of speech into simple part of speech so that wordLemmatizer can understand\n",
    "\n",
    "def get_simple_pos(tag):\n",
    "    if tag.startswith('J'):\n",
    "        return wordnet.ADJ\n",
    "    elif tag.startswith('V'):\n",
    "        return wordnet.VERB\n",
    "    elif tag.startswith('N'):\n",
    "        return wordnet.NOUN\n",
    "    elif tag.startswith('R'):\n",
    "        return wordnet.ADV\n",
    "    else:\n",
    "        return wordnet.NOUN"
   ]
  },
  {
   "cell_type": "code",
   "execution_count": 18,
   "metadata": {},
   "outputs": [],
   "source": [
    "# function to remove no.'s from the feature vocabulary\n",
    "\n",
    "def NotNumber(w):\n",
    "    for ch in w:\n",
    "        if(ch>='0' and ch<='9'):\n",
    "            return False\n",
    "    return True"
   ]
  },
  {
   "cell_type": "code",
   "execution_count": 19,
   "metadata": {},
   "outputs": [],
   "source": [
    "# defining function to make the list of words clear \n",
    "\n",
    "def clean_review(words):\n",
    "    output_words = []\n",
    "    for w in words:\n",
    "        if w.lower() not in stops and NotNumber(w)==True:\n",
    "            pos = pos_tag([w])                                 \n",
    "            clean_word = lemmatizer.lemmatize(w, get_simple_pos(pos[0][1]))\n",
    "            output_words.append(clean_word.lower())\n",
    "    return output_words"
   ]
  },
  {
   "cell_type": "code",
   "execution_count": 20,
   "metadata": {},
   "outputs": [
    {
     "name": "stdout",
     "output_type": "stream",
     "text": [
      "Cleaning time:  6502.861960887909\n"
     ]
    }
   ],
   "source": [
    "# Creating clear documents\n",
    "\n",
    "start = time.time()\n",
    "documents = [(clean_review(document), category) for document, category in documents]\n",
    "end = time.time()\n",
    "print(\"Cleaning time: \", end - start)"
   ]
  },
  {
   "cell_type": "code",
   "execution_count": 21,
   "metadata": {},
   "outputs": [
    {
     "data": {
      "text/plain": [
       "(['yes', 'could', 'hopefully', \"'ve\", 'drop', 'lb', 'next', 'week', '....'],\n",
       " 'positive')"
      ]
     },
     "execution_count": 21,
     "metadata": {},
     "output_type": "execute_result"
    }
   ],
   "source": [
    "documents[0]"
   ]
  },
  {
   "cell_type": "code",
   "execution_count": 22,
   "metadata": {},
   "outputs": [],
   "source": [
    "# again reformatting dataset in the form of of  x and y, so as to feed it to sklearn classifiers\n",
    "\n",
    "categories = [category for document, category in documents]\n",
    "text_documents = [\" \".join(document) for document, category in documents]"
   ]
  },
  {
   "cell_type": "code",
   "execution_count": 23,
   "metadata": {},
   "outputs": [],
   "source": [
    "# train - test split\n",
    "\n",
    "X_train, X_test, y_train, y_test = train_test_split(text_documents, categories , random_state=1 , test_size=0.2)"
   ]
  },
  {
   "cell_type": "markdown",
   "metadata": {},
   "source": [
    "# using TfidfVectorizer and applying different algos"
   ]
  },
  {
   "cell_type": "code",
   "execution_count": 24,
   "metadata": {},
   "outputs": [],
   "source": [
    "tfidf = TfidfVectorizer()\n",
    "X_train_t = tfidf.fit_transform(X_train)\n",
    "X_test_t = tfidf.transform(X_test)"
   ]
  },
  {
   "cell_type": "code",
   "execution_count": 25,
   "metadata": {},
   "outputs": [],
   "source": [
    "import pickle as pkl\n",
    "\n",
    "with open('transform.pkl', 'wb') as f:\n",
    "    pkl.dump(tfidf, f)"
   ]
  },
  {
   "cell_type": "code",
   "execution_count": 23,
   "metadata": {},
   "outputs": [
    {
     "name": "stdout",
     "output_type": "stream",
     "text": [
      "accuracy :  0.7789875\n",
      "time :  29.94295334815979\n"
     ]
    }
   ],
   "source": [
    "alg1 = LogisticRegression()\n",
    "\n",
    "start = time.time()\n",
    "alg1.fit(X_train_t , y_train)\n",
    "end = time.time()\n",
    "total_time1 = end - start\n",
    "\n",
    "y_pred1 = alg1.predict(X_test_t)\n",
    "\n",
    "print('accuracy : ', alg1.score(X_test_t , y_test))\n",
    "print('time : ' , total_time1)"
   ]
  },
  {
   "cell_type": "code",
   "execution_count": 24,
   "metadata": {},
   "outputs": [
    {
     "name": "stdout",
     "output_type": "stream",
     "text": [
      "accuracy :  0.538075\n",
      "time :  14.146321773529053\n"
     ]
    }
   ],
   "source": [
    "alg3 = DecisionTreeClassifier(max_depth=4 , criterion='gini')\n",
    "\n",
    "start = time.time()\n",
    "alg3.fit(X_train_t , y_train)\n",
    "end = time.time()\n",
    "total_time3 = end - start\n",
    "\n",
    "y_pred3 = alg3.predict(X_test_t)\n",
    "\n",
    "print('accuracy : ', alg3.score(X_test_t , y_test))\n",
    "print('time : ' , total_time3)"
   ]
  },
  {
   "cell_type": "code",
   "execution_count": 26,
   "metadata": {},
   "outputs": [
    {
     "name": "stdout",
     "output_type": "stream",
     "text": [
      "accuracy :  0.770675\n",
      "time :  2.423398733139038\n"
     ]
    }
   ],
   "source": [
    "alg4 = BernoulliNB()\n",
    "\n",
    "start = time.time()\n",
    "alg4.fit(X_train_t,y_train)\n",
    "end = time.time()\n",
    "total_time4 = end - start\n",
    "\n",
    "y_pred4 = alg4.predict(X_test_t)\n",
    "\n",
    "print('accuracy : ', alg4.score(X_test_t , y_test))\n",
    "print('time : ' , total_time4)"
   ]
  },
  {
   "cell_type": "code",
   "execution_count": 26,
   "metadata": {},
   "outputs": [
    {
     "name": "stdout",
     "output_type": "stream",
     "text": [
      "accuracy :  0.761478125\n",
      "time :  1.5269100666046143\n"
     ]
    }
   ],
   "source": [
    "alg6 = MultinomialNB()\n",
    "\n",
    "start = time.time()\n",
    "alg6.fit(X_train_t,y_train)\n",
    "end = time.time()\n",
    "total_time6 = end - start\n",
    "\n",
    "y_pred6 = alg6.predict(X_test_t)\n",
    "\n",
    "print('accuracy : ', alg6.score(X_test_t , y_test))\n",
    "print('time : ' , total_time6)"
   ]
  },
  {
   "cell_type": "code",
   "execution_count": 33,
   "metadata": {},
   "outputs": [
    {
     "name": "stdout",
     "output_type": "stream",
     "text": [
      "accuracy :  0.777421875\n",
      "time :  1214.346406698227\n"
     ]
    }
   ],
   "source": [
    "alg9 = LinearSVC(multi_class='crammer_singer')\n",
    "\n",
    "start = time.time()\n",
    "alg9.fit(X_train_t, y_train)\n",
    "end = time.time()\n",
    "total_time9 = end - start\n",
    "\n",
    "y_pred9 = alg9.predict(X_test_t)\n",
    "\n",
    "print('accuracy : ', alg9.score(X_test_t , y_test))\n",
    "print('time : ' , total_time9)"
   ]
  },
  {
   "cell_type": "code",
   "execution_count": 29,
   "metadata": {},
   "outputs": [
    {
     "name": "stdout",
     "output_type": "stream",
     "text": [
      "accuracy :  0.774009375\n",
      "time :  15.903161525726318\n"
     ]
    }
   ],
   "source": [
    "alg10 = RidgeClassifier()\n",
    "\n",
    "start = time.time()\n",
    "alg10.fit(X_train_t, y_train)\n",
    "end = time.time()\n",
    "total_time10 = end - start\n",
    "\n",
    "y_pred10 = alg10.predict(X_test_t)\n",
    "\n",
    "print('accuracy : ', alg10.score(X_test_t , y_test))\n",
    "print('time : ' , total_time10)"
   ]
  },
  {
   "cell_type": "code",
   "execution_count": null,
   "metadata": {},
   "outputs": [],
   "source": [
    "df_model=pd.DataFrame({\n",
    "'Model_Applied':['Logistic_Regression', 'Decision_tree', 'BernoulliNB',  'MultinomialNB', 'Linear_SVC', 'Ridge_Classifier'],\n",
    "'Accuracy':[alg1.score(X_test_t,y_test), alg3.score(X_test_t,y_test), alg4.score(X_test_t,y_test), alg6.score(X_test_t,y_test),\n",
    "            alg9.score(X_test_t,y_test), alg10.score(X_test_t,y_test)],\n",
    "'Training_Time':[total_time1, total_time3, total_time4, total_time6, total_time9, total_time10]})"
   ]
  },
  {
   "cell_type": "code",
   "execution_count": 3,
   "metadata": {},
   "outputs": [
    {
     "data": {
      "text/html": [
       "<div>\n",
       "<style scoped>\n",
       "    .dataframe tbody tr th:only-of-type {\n",
       "        vertical-align: middle;\n",
       "    }\n",
       "\n",
       "    .dataframe tbody tr th {\n",
       "        vertical-align: top;\n",
       "    }\n",
       "\n",
       "    .dataframe thead th {\n",
       "        text-align: right;\n",
       "    }\n",
       "</style>\n",
       "<table border=\"1\" class=\"dataframe\">\n",
       "  <thead>\n",
       "    <tr style=\"text-align: right;\">\n",
       "      <th></th>\n",
       "      <th>Model_Applied</th>\n",
       "      <th>Accuracy</th>\n",
       "      <th>Training_Time</th>\n",
       "    </tr>\n",
       "  </thead>\n",
       "  <tbody>\n",
       "    <tr>\n",
       "      <th>0</th>\n",
       "      <td>Logistic_Regression</td>\n",
       "      <td>77.89</td>\n",
       "      <td>29.94</td>\n",
       "    </tr>\n",
       "    <tr>\n",
       "      <th>1</th>\n",
       "      <td>Decision_tree</td>\n",
       "      <td>53.80</td>\n",
       "      <td>14.14</td>\n",
       "    </tr>\n",
       "    <tr>\n",
       "      <th>2</th>\n",
       "      <td>BernoulliNB</td>\n",
       "      <td>77.05</td>\n",
       "      <td>1.64</td>\n",
       "    </tr>\n",
       "    <tr>\n",
       "      <th>3</th>\n",
       "      <td>MultinomialNB</td>\n",
       "      <td>76.14</td>\n",
       "      <td>1.52</td>\n",
       "    </tr>\n",
       "    <tr>\n",
       "      <th>4</th>\n",
       "      <td>Linear_SVC</td>\n",
       "      <td>77.74</td>\n",
       "      <td>1214.34</td>\n",
       "    </tr>\n",
       "    <tr>\n",
       "      <th>5</th>\n",
       "      <td>Ridge_Classifier</td>\n",
       "      <td>77.40</td>\n",
       "      <td>15.90</td>\n",
       "    </tr>\n",
       "  </tbody>\n",
       "</table>\n",
       "</div>"
      ],
      "text/plain": [
       "         Model_Applied  Accuracy  Training_Time\n",
       "0  Logistic_Regression     77.89          29.94\n",
       "1        Decision_tree     53.80          14.14\n",
       "2          BernoulliNB     77.05           1.64\n",
       "3        MultinomialNB     76.14           1.52\n",
       "4           Linear_SVC     77.74        1214.34\n",
       "5     Ridge_Classifier     77.40          15.90"
      ]
     },
     "execution_count": 3,
     "metadata": {},
     "output_type": "execute_result"
    }
   ],
   "source": [
    "df_model"
   ]
  },
  {
   "cell_type": "code",
   "execution_count": 26,
   "metadata": {},
   "outputs": [],
   "source": [
    "dfi.export(df_model, 'df_model.png')"
   ]
  },
  {
   "cell_type": "code",
   "execution_count": 12,
   "metadata": {},
   "outputs": [
    {
     "data": {
      "text/plain": [
       "<AxesSubplot:title={'center':'Accurcy comparison of different Models'}, xlabel='Model_Applied', ylabel='Accuracy'>"
      ]
     },
     "execution_count": 12,
     "metadata": {},
     "output_type": "execute_result"
    },
    {
     "data": {
      "image/png": "[encoded data removed]",
      "text/plain": [
       "<Figure size 720x720 with 1 Axes>"
      ]
     },
     "metadata": {
      "needs_background": "light"
     },
     "output_type": "display_data"
    }
   ],
   "source": [
    "df_model.plot(kind='bar',x='Model_Applied', ylim=[52,80] , y='Accuracy', figsize=(10,10) , ylabel='Accuracy', title='Accurcy comparison of different Models')"
   ]
  },
  {
   "cell_type": "code",
   "execution_count": 14,
   "metadata": {},
   "outputs": [
    {
     "data": {
      "text/plain": [
       "<AxesSubplot:title={'center':'Training time comparison of different Models'}, xlabel='Model_Applied', ylabel='Training Time'>"
      ]
     },
     "execution_count": 14,
     "metadata": {},
     "output_type": "execute_result"
    },
    {
     "data": {
      "image/png": "[encoded data removed]",
      "text/plain": [
       "<Figure size 720x720 with 1 Axes>"
      ]
     },
     "metadata": {
      "needs_background": "light"
     },
     "output_type": "display_data"
    }
   ],
   "source": [
    "df_model.plot(kind='bar',x='Model_Applied', ylim=[1.0,35] , y='Training_Time', figsize=(10,10), ylabel='Training Time', title='Training time comparison of different Models')"
   ]
  },
  {
   "cell_type": "code",
   "execution_count": 27,
   "metadata": {},
   "outputs": [],
   "source": [
    "import pickle as pkl\n",
    "\n",
    "with open('model.pkl', 'wb') as f:\n",
    "    pkl.dump(alg4, f)"
   ]
  }
 ],
 "metadata": {
  "kernelspec": {
   "display_name": "Python 3",
   "language": "python",
   "name": "python3"
  },
  "language_info": {
   "codemirror_mode": {
    "name": "ipython",
    "version": 3
   },
   "file_extension": ".py",
   "mimetype": "text/x-python",
   "name": "python",
   "nbconvert_exporter": "python",
   "pygments_lexer": "ipython3",
   "version": "3.8.5"
  }
 },
 "nbformat": 4,
 "nbformat_minor": 4
}
